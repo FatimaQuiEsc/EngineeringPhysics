{
  "nbformat": 4,
  "nbformat_minor": 0,
  "metadata": {
    "colab": {
      "provenance": [],
      "include_colab_link": true
    },
    "kernelspec": {
      "name": "python3",
      "display_name": "Python 3"
    }
  },
  "cells": [
    {
      "cell_type": "markdown",
      "metadata": {
        "id": "view-in-github",
        "colab_type": "text"
      },
      "source": [
        "<a href=\"https://colab.research.google.com/github/FatimaQuiEsc/EngineeringPhysics/blob/main/Object-Oriented-Programming%26Events_proyect.ipynb\" target=\"_parent\"><img src=\"https://colab.research.google.com/assets/colab-badge.svg\" alt=\"Open In Colab\"/></a>"
      ]
    },
    {
      "cell_type": "code",
      "metadata": {
        "id": "Pp8BXN13LB2l"
      },
      "source": [
        "#Proyecto:Simulacion de mareas para ver la energi­a que produce una turbina\n",
        " \n",
        "import  numpy             as np \n",
        "import  matplotlib.pyplot as plt\n",
        "import  scipy             as sp\n",
        "import  matplotlib.cm     as cm\n",
        "import  pandas            as pd\n",
        "import  math"
      ],
      "execution_count": null,
      "outputs": []
    },
    {
      "cell_type": "code",
      "metadata": {
        "id": "EKb-u2u_6QBB"
      },
      "source": [
        "#Lectura de los archivos\n",
        "mayo=pd.read_csv('marea - primavera.csv')\n",
        "julio = pd.read_csv('marea - verano.csv')\n",
        "sep = pd.read_csv('marea - otoño.csv')\n",
        "dic = pd.read_csv('marea - invierno.csv')\n",
        "x = np.array(mayo['dia'])"
      ],
      "execution_count": null,
      "outputs": []
    },
    {
      "cell_type": "code",
      "metadata": {
        "id": "N5npCipD3O9Y"
      },
      "source": [
        "#Variables necesarias para el modelado\n",
        "cosen = math.cos(10*math.pi+(math.pi/8))"
      ],
      "execution_count": null,
      "outputs": []
    },
    {
      "cell_type": "code",
      "metadata": {
        "id": "3jBur85SNlR7",
        "outputId": "3842a0b3-3168-46ea-e2c6-bdaecbccf7ac",
        "colab": {
          "base_uri": "https://localhost:8080/",
          "height": 33
        }
      },
      "source": [
        "#Se crea una clase para los atributos de la marea  \n",
        "\n",
        "class Marea:\n",
        "    def __int___(self):\n",
        "      print('Caracteristicas de la marea')\n",
        "    \n",
        "    U = 0 \n",
        "\n",
        "    def corriente(self, mes): \n",
        "      #Se define la funcion para graficar la corriente\n",
        "      x  = np.array(mes['dia'])\n",
        "      A1 = np.array(mes['amp1'])\n",
        "      A2 = np.array(mes['amp2'])\n",
        "      A3 = np.array(mes['amp3'])\n",
        "      A4 = np.array(mes['amp4']) \n",
        "      U = ((cosen*A1) + (cosen*A2) + (cosen*A3) + (cosen*A4))*100/24\n",
        "      print(U)\n",
        "      plt.plot(x, U, '-o')\n",
        "      plt.show()\n",
        "      \n",
        "\n",
        "print(U)"
      ],
      "execution_count": null,
      "outputs": [
        {
          "output_type": "stream",
          "text": [
            "0\n"
          ],
          "name": "stdout"
        }
      ]
    },
    {
      "cell_type": "code",
      "metadata": {
        "id": "Eky994k_3l5M",
        "outputId": "d96ba8e0-6ae3-4132-81c4-9736da302c2e",
        "colab": {
          "base_uri": "https://localhost:8080/",
          "height": 1000
        }
      },
      "source": [
        "#Se imprimen las graficas utilizando la clase \n",
        "primavera = Marea()\n",
        "primavera.corriente(mayo)\n",
        "verano = Marea()\n",
        "verano.corriente(julio)\n",
        "otono = Marea()\n",
        "otono.corriente(sep)"
      ],
      "execution_count": null,
      "outputs": [
        {
          "output_type": "stream",
          "text": [
            "[3.07959844 1.53979922 3.07959844 2.30969883 0.76989961 1.53979922\n",
            " 1.53979922 1.53979922 1.53979922 9.23879533 2.30969883 1.53979922\n",
            " 1.53979922 1.53979922 2.30969883 2.30969883 3.84949805 1.53979922\n",
            " 1.53979922 0.76989961]\n"
          ],
          "name": "stdout"
        },
        {
          "output_type": "display_data",
          "data": {
            "image/png": "[encoded data removed]",
            "text/plain": [
              "<Figure size 432x288 with 1 Axes>"
            ]
          },
          "metadata": {
            "tags": [],
            "needs_background": "light"
          }
        },
        {
          "output_type": "stream",
          "text": [
            "[0.         0.76989961 0.76989961 0.76989961 0.76989961 0.76989961\n",
            " 4.61939766 0.76989961 1.53979922 1.53979922 1.53979922 0.76989961\n",
            " 0.         0.76989961 0.         0.76989961 0.         0.\n",
            " 0.         1.53979922]\n"
          ],
          "name": "stdout"
        },
        {
          "output_type": "display_data",
          "data": {
            "image/png": "[encoded data removed]",
            "text/plain": [
              "<Figure size 432x288 with 1 Axes>"
            ]
          },
          "metadata": {
            "tags": [],
            "needs_background": "light"
          }
        },
        {
          "output_type": "stream",
          "text": [
            "[ 3.07959844  3.07959844  3.07959844  3.07959844  3.07959844  2.30969883\n",
            "  1.53979922 -1.53979922  2.30969883  2.30969883  2.30969883  2.30969883\n",
            "  1.53979922  2.30969883  2.30969883  4.61939766  3.84949805  1.84775907\n",
            "  3.84949805  3.07959844]\n"
          ],
          "name": "stdout"
        },
        {
          "output_type": "display_data",
          "data": {
            "image/png": "[encoded data removed]",
            "text/plain": [
              "<Figure size 432x288 with 1 Axes>"
            ]
          },
          "metadata": {
            "tags": [],
            "needs_background": "light"
          }
        },
        {
          "output_type": "execute_result",
          "data": {
            "text/plain": [
              "array([ 3.07959844,  3.07959844,  3.07959844,  3.07959844,  3.07959844,\n",
              "        2.30969883,  1.53979922, -1.53979922,  2.30969883,  2.30969883,\n",
              "        2.30969883,  2.30969883,  1.53979922,  2.30969883,  2.30969883,\n",
              "        4.61939766,  3.84949805,  1.84775907,  3.84949805,  3.07959844])"
            ]
          },
          "metadata": {
            "tags": []
          },
          "execution_count": 28
        }
      ]
    },
    {
      "cell_type": "markdown",
      "metadata": {
        "id": "gjMrHuiu0O5o"
      },
      "source": [
        "Con la formula \n",
        "$U_{(t)}=\\sum A_{i}cos(\\boldsymbol{\\omega_{i}t+\\boldsymbol{\\varphi_{i}}})$\n",
        "\n",
        "\n",
        "\n"
      ]
    },
    {
      "cell_type": "code",
      "metadata": {
        "id": "NS6QFnmuOWUJ"
      },
      "source": [
        "\n"
      ],
      "execution_count": null,
      "outputs": []
    },
    {
      "cell_type": "code",
      "metadata": {
        "id": "wD7LRFoL4-91"
      },
      "source": [],
      "execution_count": null,
      "outputs": []
    },
    {
      "cell_type": "markdown",
      "metadata": {
        "id": "ag5NNFQp4_sw"
      },
      "source": [
        "#Funciones para imprimir\n",
        "    def ImprimirId(self):\n",
        "        print(f\"{self.id}\")\n",
        "    def ImprimirAltura(self):\n",
        "        print(f\"{self.altura}\")\n",
        "    def ImprimirDia(self):\n",
        "        print(f\"{self.dia}\")\n",
        "    def ImprimirFrecuencia(self):\n",
        "        print(f\"{self.frecuencia}\")\n",
        "    def ImprimirMagnitud(self):\n",
        "        print(f\"{self.magnitud}\")         \n",
        "h=[1,2,3,4,5,6,7,8]\n",
        "F=[1,2,3,4,5,6,7,8]\n",
        "D=[1,2,3,4,5,6,7,8]\n",
        "M=[1,2,3,4,5,6,7,8]\n",
        "for i in range(8):\n",
        "    Mr1=Marea(i+1,h[i],F[i],D[i],M[i])\n",
        "    Mr1.ImprimirId() \n",
        "    Mr1.ImprimirAltura()\n",
        "    Mr1.ImprimirFrecuencia()\n",
        "    Mr1.ImprimirDia()\n",
        "    Mr1.ImprimirMagnitud()"
      ]
    }
  ]
}