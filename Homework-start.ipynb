{
  "nbformat": 4,
  "nbformat_minor": 0,
  "metadata": {
    "colab": {
      "provenance": [],
      "include_colab_link": true
    },
    "kernelspec": {
      "name": "python3",
      "display_name": "Python 3"
    },
    "language_info": {
      "name": "python"
    }
  },
  "cells": [
    {
      "cell_type": "markdown",
      "metadata": {
        "id": "view-in-github",
        "colab_type": "text"
      },
      "source": [
        "<a href=\"https://colab.research.google.com/github/FatimaQuiEsc/EngineeringPhysics/blob/main/Homework-start.ipynb\" target=\"_parent\"><img src=\"https://colab.research.google.com/assets/colab-badge.svg\" alt=\"Open In Colab\"/></a>"
      ]
    },
    {
      "cell_type": "markdown",
      "source": [
        "# Tarea 2\n",
        "### Optimización de procesos \n",
        "\n",
        "Programa que dice el timepo de ejecución del programa ejecutando el *algoritmo de Horner* dentro y fuera de la rutina. Utilizar el llenado del arreglo como en el programa pasado, para guardar los valores."
      ],
      "metadata": {
        "id": "-2IQplpZpvzK"
      }
    },
    {
      "cell_type": "code",
      "source": [
        "%%writefile fuera.c\n",
        "\n",
        "#include <stdio.h>\n",
        "#include <time.h>\n",
        "\n",
        "// Numero de ejecuciones\n",
        "#define ELEMENTS 1000000\n",
        "\n",
        "\n",
        "double HornerRule( double x, double *coeff , int nCoeff){\n",
        "    \n",
        "    double accum = coeff[0];\n",
        "    int index = 1;\n",
        "\n",
        "    do{\n",
        "        accum = accum*x + coeff[index];\n",
        "        index ++;\n",
        "    } while(index < nCoeff); \n",
        "    \n",
        "    return accum;\n",
        "    \n",
        "}\n",
        "\n",
        "int main()\n",
        "{\n",
        "    clock_t start_t, end_t, total_t;\n",
        "    int i;\n",
        "    \n",
        "    // Se imprime cuando empieza el programa\n",
        "    printf(\"Empezo el programa, start_t = %ld\\n\", start_t); \n",
        "    \n",
        "    // El contenido del programa\n",
        "    \n",
        "    double coeff[] = {2,-5, 10};\n",
        "    \n",
        "    double x = -3;\n",
        "    int n = ELEMENTS;\n",
        " \n",
        "    start_t = clock();\n",
        "    \n",
        "    // Se ejecuta el programa pero se llama el algoritmo de horner a cada paso\n",
        "    do{\n",
        "        HornerRule(x, coeff, sizeof(coeff) / sizeof(double));\n",
        "        x += 0.1;\n",
        "        \n",
        "    } while(-- n);\n",
        "    \n",
        "    \n",
        "    // Tiempo que se tardo\n",
        "    end_t = clock();\n",
        "\n",
        "\n",
        "    printf(\"Termino del programa, end_t = %ld\\n\", end_t);\n",
        "    \n",
        "    total_t = (double)(end_t - start_t) / CLOCKS_PER_SEC;\n",
        "    printf(\"Tiempo total del CPU: %ld\\n\", total_t  );\n",
        "    printf(\"Exiting of the program...\\n\");\n",
        " \n",
        "    return 0;\n",
        "}"
      ],
      "metadata": {
        "colab": {
          "base_uri": "https://localhost:8080/"
        },
        "id": "rZ34cfM4q_rz",
        "outputId": "38e0e0a2-325c-42f2-c559-7a74a33b816c"
      },
      "execution_count": null,
      "outputs": [
        {
          "output_type": "stream",
          "name": "stdout",
          "text": [
            "Overwriting fuera.c\n"
          ]
        }
      ]
    },
    {
      "cell_type": "code",
      "source": [
        "%%shell\n",
        "gcc fuera.c -o fuera\n",
        "./fuera"
      ],
      "metadata": {
        "colab": {
          "base_uri": "https://localhost:8080/"
        },
        "id": "IHiTEmrwred9",
        "outputId": "d1d67c07-a33d-47d4-f8e8-8060ffb0fb56"
      },
      "execution_count": null,
      "outputs": [
        {
          "output_type": "stream",
          "name": "stdout",
          "text": [
            "Empezo el programa, start_t = 94143216236829\n",
            "Termino del programa, end_t = 23130\n",
            "Tiempo total del CPU: 0\n",
            "Exiting of the program...\n"
          ]
        },
        {
          "output_type": "execute_result",
          "data": {
            "text/plain": [
              ""
            ]
          },
          "metadata": {},
          "execution_count": 6
        }
      ]
    },
    {
      "cell_type": "markdown",
      "source": [
        "## Dentro de la rutina\n",
        "\n",
        "El algoritmo de Horner con el programa ejecutando dentro de la rutina"
      ],
      "metadata": {
        "id": "BWUBAiCXrsKF"
      }
    },
    {
      "cell_type": "code",
      "source": [
        "%%writefile dentro.c\n",
        "\n",
        "#include <stdio.h>\n",
        "#include <time.h>\n",
        "\n",
        "#define ELEMENTS 1000000\n",
        "\n",
        "/*\n",
        "Se tiene que agregar a la funcion dos parámetros mas. El número de \n",
        "veces que se va ejecutar y un arreglo para guardar los valores del \n",
        "algoritmo a cada paso.\n",
        "*/\n",
        "\n",
        "double HornerRule( double x, double *coeff , int nCoeff, int n, double *Valores){\n",
        "    \n",
        "    double accum = coeff[0];\n",
        "    int index = 1;\n",
        "    int i = 1;\n",
        "\n",
        "    // Se crea un ciclo adicional donde se ejecuta todo el programa\n",
        "    do {\n",
        "        do{\n",
        "            accum = accum*x + coeff[index];\n",
        "            index ++;\n",
        "        } while(index < nCoeff); \n",
        "    \n",
        "    Valores[i] = accum;\n",
        "    x += 0.1;\n",
        "    i ++;\n",
        "    } while(--n);\n",
        "}\n",
        "\n",
        "\n",
        "int main()\n",
        "{\n",
        "    clock_t start_t, end_t, total_t;\n",
        "    int i;\n",
        "    \n",
        "    // Se imprime cuando empieza el programa\n",
        "    printf(\"Empezo el programa, start_t = %ld\\n\", start_t); \n",
        "    \n",
        "    // El contenido del programa\n",
        "    \n",
        "    double coeff[] = {2,-5, 10};\n",
        "    \n",
        "    // Se crea el arreglo para guardar los valores totale del algoritmo\n",
        "    double Valores[ELEMENTS]; \n",
        "    \n",
        "    double x = -3;\n",
        "    int n = ELEMENTS;\n",
        " \n",
        "    start_t = clock();\n",
        "    \n",
        "    // Se manda llamar la funcion\n",
        "    HornerRule(x, coeff, sizeof(coeff) / sizeof(double), n, Valores);\n",
        "\n",
        "    // Tiempo que se tardo\n",
        "    end_t = clock();\n",
        "\n",
        "\n",
        "    printf(\"Termino del programa, end_t = %ld\\n\", end_t);\n",
        "    \n",
        "    total_t = (double)(end_t - start_t) / CLOCKS_PER_SEC;\n",
        "    printf(\"Tiempo total del CPU: %ld\\n\", total_t  );\n",
        "    printf(\"Exiting of the program...\\n\");\n",
        " \n",
        "    return 0;\n",
        "}"
      ],
      "metadata": {
        "colab": {
          "base_uri": "https://localhost:8080/"
        },
        "id": "fCwn1kK8rkz5",
        "outputId": "143b3356-e0a3-46b0-acd7-bbb4236be6c3"
      },
      "execution_count": null,
      "outputs": [
        {
          "output_type": "stream",
          "name": "stdout",
          "text": [
            "Overwriting dentro.c\n"
          ]
        }
      ]
    },
    {
      "cell_type": "code",
      "source": [
        "%%shell\n",
        "gcc dentro.c -o dentro\n",
        "./dentro"
      ],
      "metadata": {
        "colab": {
          "base_uri": "https://localhost:8080/"
        },
        "id": "-nztAPVXsnWx",
        "outputId": "b4392471-592b-434d-faf6-6c45ed92b3e3"
      },
      "execution_count": null,
      "outputs": [
        {
          "output_type": "stream",
          "name": "stdout",
          "text": [
            "Empezo el programa, start_t = 0\n",
            "Termino del programa, end_t = 21912\n",
            "Tiempo total del CPU: 0\n",
            "Exiting of the program...\n"
          ]
        },
        {
          "output_type": "execute_result",
          "data": {
            "text/plain": [
              ""
            ]
          },
          "metadata": {},
          "execution_count": 8
        }
      ]
    },
    {
      "cell_type": "markdown",
      "source": [
        "## Notas\n",
        "\n",
        "El tiempo inicial del programa cuando el algoritmo se ejecuta fuera es mucho, esto es por que cuando el programa se ejecuta afuera se tiene que reservar memoria. Cuando el algoritmo se ejecuta dentro de la rutina, la memoria se reserva dentro del slack la cual es muy rápida, por lo que el tiempo es practicamente 0. \n",
        "\n",
        "Aunque el tiempo final de ejecución del programa es menor en el programa fuera de la rutina, al final la diferencia es mucha con respecto al programa que se ejecuta dentro, el cual es mas óptimo en comparación del otro. "
      ],
      "metadata": {
        "id": "HMji8H86svv9"
      }
    },
    {
      "cell_type": "markdown",
      "source": [],
      "metadata": {
        "id": "DGSi1Sr2BeG3"
      }
    },
    {
      "cell_type": "markdown",
      "source": [
        "# Tarea 3\n",
        "### Matriz MxN y matriz transpuesta."
      ],
      "metadata": {
        "id": "ppiILIv1YOPN"
      }
    },
    {
      "cell_type": "code",
      "execution_count": null,
      "metadata": {
        "colab": {
          "base_uri": "https://localhost:8080/"
        },
        "id": "CcsxyT8ANeQ2",
        "outputId": "6b4900ce-0293-4f1d-dfd1-041bd60e617d"
      },
      "outputs": [
        {
          "output_type": "stream",
          "name": "stdout",
          "text": [
            "Overwriting matrix.c\n"
          ]
        }
      ],
      "source": [
        "%%writefile matrix.c\n",
        "\n",
        "#include <stdio.h>\n",
        "\n",
        "#define M 4\n",
        "#define N 3\n",
        "\n",
        "// Imprimimos la matriz mxn\n",
        "\n",
        "void MatrixShow(int m, int n, int v[]){\n",
        "    \n",
        "    int i, j, k=0;\n",
        "    \n",
        "    for(i=0 ; i<m ; i++){\n",
        "        \n",
        "        for (j=0 ; j<n ; j ++){\n",
        "            \n",
        "            printf(\"%d \\t\", v[k]);\n",
        "            k ++;\n",
        "        }\n",
        "        \n",
        "        printf(\"\\n\");\n",
        "    }\n",
        "}\n",
        "\n",
        "// Imprimimos la matriz transpuesta\n",
        "void MatrixT(int m, int n, int v[]){\n",
        "    \n",
        "    int i, j, k;\n",
        "    \n",
        "    for (i=0; i<n; i++){\n",
        "        \n",
        "        k = i;\n",
        "        \n",
        "        for(j=0; j<m; j++){\n",
        "            \n",
        "            printf(\"%d \\t\", v[k]);\n",
        "            k=k+n;\n",
        "            \n",
        "        }\n",
        "        \n",
        "        printf(\"\\n\");\n",
        "        \n",
        "    }\n",
        "    \n",
        "}\n",
        "\n",
        "int main()\n",
        "{\n",
        "    int vector[]= {1,2,3,4,5,6,7,8,9,10,11,12};\n",
        "    \n",
        "    printf( \"La matriz de %d x %d \\n\", M, N );\n",
        "    MatrixShow(M,N, vector);\n",
        "    \n",
        "    printf(\"\\n\");\n",
        "    \n",
        "    printf( \"La matriz transpuesta de %d x %d \\n\", N, M );\n",
        "    MatrixT(4,3, vector);\n",
        "\n",
        "    return 0;\n",
        "}\n"
      ]
    },
    {
      "cell_type": "code",
      "source": [
        "%%shell \n",
        "gcc matrix.c -o matrix\n",
        "./matrix"
      ],
      "metadata": {
        "colab": {
          "base_uri": "https://localhost:8080/"
        },
        "id": "eWA-nE5sZe6C",
        "outputId": "43f00ff8-fdd5-4621-8eb5-d0e88e0342c1"
      },
      "execution_count": null,
      "outputs": [
        {
          "output_type": "stream",
          "name": "stdout",
          "text": [
            "La matriz de 4 x 3 \n",
            "1 \t2 \t3 \t\n",
            "4 \t5 \t6 \t\n",
            "7 \t8 \t9 \t\n",
            "10 \t11 \t12 \t\n",
            "\n",
            "La matriz transpuesta de 3 x 4 \n",
            "1 \t4 \t7 \t10 \t\n",
            "2 \t5 \t8 \t11 \t\n",
            "3 \t6 \t9 \t12 \t\n"
          ]
        },
        {
          "output_type": "execute_result",
          "data": {
            "text/plain": [
              ""
            ]
          },
          "metadata": {},
          "execution_count": 8
        }
      ]
    },
    {
      "cell_type": "code",
      "source": [],
      "metadata": {
        "id": "vEu56WodB7Z5"
      },
      "execution_count": null,
      "outputs": []
    },
    {
      "cell_type": "markdown",
      "source": [],
      "metadata": {
        "id": "wYcvsz1YB5pr"
      }
    },
    {
      "cell_type": "markdown",
      "source": [
        "#Tarea 4\n",
        "### Matriz de covarianza MxN\n"
      ],
      "metadata": {
        "id": "_0ENdOHxOVwy"
      }
    },
    {
      "cell_type": "code",
      "execution_count": null,
      "metadata": {
        "colab": {
          "base_uri": "https://localhost:8080/"
        },
        "id": "gyk1vhw_gPTB",
        "outputId": "b06c1767-843a-4db0-870a-efffa4f15b69"
      },
      "outputs": [
        {
          "output_type": "stream",
          "name": "stdout",
          "text": [
            "Overwriting new.c\n"
          ]
        }
      ],
      "source": [
        "%%writefile new.c\n",
        "\n",
        "#include <stdio.h>\n",
        "\n",
        "#define ST 3\n",
        "#define SA 15\n",
        "\n",
        "// Esta rutina calcula el producto punto entre dos vectores\n",
        "double DotProd(double x[], double y[], int n)\n",
        "{\n",
        "    double sum = *(x++) * *(y ++ );\n",
        "    --n ;\n",
        "    \n",
        "    do {\n",
        "        sum += *( x++ ) * *(y ++ );\n",
        "    } while (--n);\n",
        "    \n",
        "    return sum;\n",
        "}\n",
        "\n",
        "/*\n",
        "Esta rutina calcula la varianza de los grupos de datos y llena la diagonal \n",
        "principal de la matriz de covarianza\n",
        "*/\n",
        "void Variance(double* sum_xPtr, double* CovPtr, double* DatPtr[], int N, int M )\n",
        "{\n",
        "    // En estas variables se van a hacer las sumas\n",
        "    double sum_x = 0, sum_x2 = 0;  \n",
        "    \n",
        "    int i = 0, k = 0;\n",
        "    \n",
        "    do {  \n",
        "    \n",
        "        sum_x = 0, sum_x2 = 0;    \n",
        "    \n",
        "            do {\n",
        "                \n",
        "                // Hacemos las sumas de x y x^2\n",
        "                sum_x2 += *(DatPtr[k]) * *(DatPtr[k]);\n",
        "                sum_x += *(DatPtr[k] ++);\n",
        "                \n",
        "                i ++;\n",
        "            \n",
        "            } while(i<SA);\n",
        "    \n",
        "        // Guardamos el valor de sum x en un arreglo\n",
        "        *sum_xPtr = sum_x;\n",
        "        sum_xPtr ++;\n",
        "        \n",
        "        /*\n",
        "        Calculamos la varianza y directamente guardamos estos valores en la \n",
        "        matriz de covarianza\n",
        "        */\n",
        "        *CovPtr = (M * (sum_x2) - (sum_x) * (sum_x)) / ( M*(M-1) );\n",
        "        \n",
        "        // Recorremos el apuntador para tener solo los valores de la diagonal\n",
        "        CovPtr  = CovPtr + (N+1);\n",
        "        \n",
        "        k ++;\n",
        "        i = 0;\n",
        "    \n",
        "    } while(k < N);\n",
        "    \n",
        "    \n",
        "}\n",
        "\n",
        "/*\n",
        "En esta rutina se calcula la covarianza entre todas las variables y se guarda \n",
        "en la matriz de covarianza\n",
        "*/\n",
        "void Covariance(double* sum_xPtr, double* CovPtr, double* DatPtr[], int N, int M )\n",
        "{\n",
        "    \n",
        "    int i = 0, k = 0;\n",
        "    \n",
        "    do {\n",
        "        \n",
        "        do {\n",
        "            \n",
        "            /*\n",
        "            Calculamos la covarianza y lo guardamos directamente en la matriz. \n",
        "            La covarianza se calcula por renglon, un ciclo es para los renglones \n",
        "            y otro para las columnas. Avanzamos de manera que permutamos en \n",
        "            cada renglon todas las variables, permutando una variable fija con \n",
        "            todas las demas. De esta manera, si en el primer renglon tenemos x,\n",
        "            hacemo xy, xz, xw, xe, xd, ... Cuando avanzamos al siguiente renglon\n",
        "            hacemos yz, yw, ye, yd, ... Avanzamos zw, ze, zd, ... y asi hasta \n",
        "            acabar\n",
        "            */\n",
        "            *CovPtr = (M * DotProd(DatPtr[i],  DatPtr[k+1], M) - \n",
        "            (*sum_xPtr)* *(sum_xPtr + (k+1)) ) / ( M*(M-1) );\n",
        "            \n",
        "            /*\n",
        "            Llenamos los lugares transpuestos de la matriz sumando los lugares \n",
        "            que corresponden. (k+1)(n-1)\n",
        "            */\n",
        "            *(CovPtr + (k+1)*(N-1)) = *CovPtr;\n",
        "            \n",
        "            CovPtr ++;\n",
        "            \n",
        "            k ++;    \n",
        "        \n",
        "        // Movemos los indices para estar en la diagonal superior de la matriz\n",
        "        } while( k < (N - 1) - i );\n",
        "        \n",
        "        // Apuntamos en la dirección superior de la diagonal principal \n",
        "        CovPtr = CovPtr + (i+2);\n",
        "        sum_xPtr ++;\n",
        "        \n",
        "        k = 0;\n",
        "        i ++;\n",
        "    } while( i < N-1);\n",
        "\n",
        "    \n",
        "}\n",
        "\n",
        "// Esta rutina muestra una matriz de mxn\n",
        "void MatrixShow(int m, int n, double v[])\n",
        "{\n",
        "    \n",
        "     \n",
        "    int i, j, k=0;\n",
        "    \n",
        "    for(i=0 ; i<m ; i++){\n",
        "        \n",
        "        for (j=0 ; j<n ; j ++){\n",
        "            \n",
        "            printf(\"%lf \\t\", v[k]);\n",
        "            k ++;\n",
        "        }\n",
        "        \n",
        "        printf(\"\\n\");\n",
        "    }\n",
        "    \n",
        "    \n",
        "    \n",
        "}\n",
        "\n",
        "/*\n",
        "Esta rutina hace la matriz transpuesta\n",
        "\n",
        "Nota: Rutina innecesaria, solo se necesita una linea de codigo en la rutina \n",
        "\"Covariance\" para hacerse\n",
        "*/\n",
        "void MatrixT(int m, int n, double* CovPtr)\n",
        "{\n",
        "    \n",
        "    int i = 0, k = 0;\n",
        "    \n",
        "    do {\n",
        "        \n",
        "        do {\n",
        "            \n",
        "            /*\n",
        "            Llenamos la matriz transpuesta sumando los lugares que corresponden\n",
        "            para estar en el lugar que buscamos\n",
        "            */\n",
        "            *(CovPtr + (k+1)*(n-1)) = *CovPtr;\n",
        "            \n",
        "            CovPtr ++;\n",
        "            \n",
        "            k ++;    \n",
        "        \n",
        "        // Movemos los indices para estar en la diagonal superior de la matriz\n",
        "        } while( k < (n - 1) - i );\n",
        "        \n",
        "        // Apuntamos en la dirección superior de la diagonal principal \n",
        "        CovPtr = CovPtr + (i+2);\n",
        "        \n",
        "        k = 0;\n",
        "        i ++;\n",
        "    } while( i < n-1);\n",
        "    \n",
        "}\n",
        "\n",
        "\n",
        "int main()\n",
        "{\n",
        "    \n",
        "    // Introducimos los datos en un solo vector\n",
        "    double DatM[] = {\n",
        "        10.0, 10.4, 9.7, 9.7, 11.7, 11.0, 8.7, 9.5, 10.1, 9.6, 10.5, 9.2, 11.3, 10.1, 8.5,\n",
        "        10.7, 9.8, 10.0, 10.1, 11.5, 10.8, 8.8, 9.3, 9.4, 9.6, 10.4, 9.0, 11.6, 9.8, 9.2,\n",
        "        10.7, 9.8, 10.0, 10.1, 11.5, 10.8, 8.8, 9.3, 9.4, 9.6, 10.4, 9.0, 11.6, 9.8, 9.2,\n",
        "        10.0, 10.4, 9.7, 9.7, 11.7, 11.0, 8.7, 9.5, 10.1, 9.6, 10.5, 9.2, 11.3, 10.1, 8.5,\n",
        "        10.7, 9.8, 10.0, 10.1, 11.5, 10.8, 8.8, 9.3, 9.4, 9.6, 10.4, 9.0, 11.6, 9.8, 9.2,\n",
        "    };\n",
        "\n",
        "    // Declaramos la matriz de la Covarianza y le apuntamos\n",
        "    double CovM[ST*ST];\n",
        "    double* CovPtr = CovM;\n",
        "    \n",
        "    // Hacemos un apuntador de apuntadores para manejar los datos\n",
        "    double* DatPtr[] = {DatM, DatM + SA, DatM + 2*SA, DatM + 3*SA, DatM + 4*SA};\n",
        "\n",
        "    // Declaramos un arreglo para las sumas y le apuntamos     \n",
        "    double sum_xM[ST];\n",
        "    double* sum_xPtr = sum_xM;\n",
        "\n",
        "    // Varianza\n",
        "    Variance(sum_xPtr, CovPtr, DatPtr, ST, SA);\n",
        "    \n",
        "    // Nos cercioramos que estamos apuntando en la dirección correcta\n",
        "    DatPtr[0] = DatPtr[0] - SA;\n",
        "    CovPtr = CovM + 1;\n",
        "    \n",
        "    sum_xPtr = sum_xM;\n",
        "\n",
        "    // Covarianza \n",
        "    Covariance(sum_xPtr, CovPtr, DatPtr, ST, SA);\n",
        "    \n",
        "    // Apuntamos en la direccion correcta\n",
        "    /*\n",
        "    CovPtr = CovM + 1;\n",
        "    MatrixT(ST,ST, CovPtr);\n",
        "    */\n",
        "    \n",
        "    // Se imprime la matriz\n",
        "    printf( \"La matriz de Covarianza es: \\n\");\n",
        "    MatrixShow(ST,ST, CovM);\n",
        "    \n",
        "    \n",
        "    return 0;\n",
        "}"
      ]
    },
    {
      "cell_type": "code",
      "source": [
        "%%shell\n",
        "gcc new.c -o new\n",
        "./new"
      ],
      "metadata": {
        "colab": {
          "base_uri": "https://localhost:8080/"
        },
        "id": "nX1n7IkwgWCG",
        "outputId": "4df4c15c-4a9d-4276-d7f8-074b0b5a281c"
      },
      "execution_count": null,
      "outputs": [
        {
          "output_type": "stream",
          "name": "stdout",
          "text": [
            "La matriz de Covarianza es: \n",
            "0.798571 \t0.679286 \t0.798571 \t\n",
            "0.679286 \t0.734286 \t0.734286 \t\n",
            "0.798571 \t0.734286 \t0.734286 \t\n"
          ]
        },
        {
          "output_type": "execute_result",
          "data": {
            "text/plain": [
              ""
            ]
          },
          "metadata": {},
          "execution_count": 12
        }
      ]
    },
    {
      "cell_type": "markdown",
      "source": [
        "\n"
      ],
      "metadata": {
        "id": "u0ZO0UH8CSkf"
      }
    },
    {
      "cell_type": "code",
      "source": [],
      "metadata": {
        "id": "072fIdWTCIbo"
      },
      "execution_count": null,
      "outputs": []
    },
    {
      "cell_type": "markdown",
      "source": [
        "# Tarea 5\n",
        "### Matriz de Covarianza\n",
        "\n",
        "Calcula la matriz de covarianza [Multi and Megavariate Data Analysis], utilizando apuntadores. \n",
        "\n",
        "Calculamos la covarianza entre dos conjuntos de datos utilizando la ecuación\n",
        "\n",
        "$$\n",
        "S_{xy} = \\frac{n \\sum x_i y_i - \\sum x_i \\sum y_i}{n(n-1)}\n",
        "$$\n",
        "\n",
        "En cuanto a la varianza, esta se calcula a partir de un solo conjunto de datos y se utiliza:\n",
        "\n",
        "$$\n",
        "s^2 = \\frac{n\\sum x_i^2 - (\\sum x_i)^2}{n(n-1)}\n",
        "$$\n",
        "\n",
        "Realizamos ahora el código para calcular la matriz de covarianza de 2 conjuntos de datos."
      ],
      "metadata": {
        "id": "nS4aj3BWdKvq"
      }
    },
    {
      "cell_type": "code",
      "source": [
        "%%writefile Rutinas.c\n",
        "\n",
        "#include <stdio.h>\n",
        "\n",
        "#define ST 2\n",
        "#define SA 15\n",
        "\n",
        "// Rutina hecha para mostrar una matriz\n",
        "void MatrixShow(int m, int n, double v[]){\n",
        "    \n",
        "    int i, j, k=0;\n",
        "    \n",
        "    for(i=0 ; i<m ; i++){\n",
        "        \n",
        "        for (j=0 ; j<n ; j ++){\n",
        "            \n",
        "            printf(\"%lf \\t\", v[k]);\n",
        "            k ++;\n",
        "        }\n",
        "        \n",
        "        printf(\"\\n\");\n",
        "    }\n",
        "}\n",
        "\n",
        "/*\n",
        "Se realizan todas las sumas necesarias para calcular la covarianza, las sumas \n",
        "se guardan en apuntadores. Se recorre la matriz de los datos con un apuntador, \n",
        "sabemos que llegamos al final del primer conjunto de datos por el número de \n",
        "filas, que son las muestras, valor el cual esta guardado en SA\n",
        "*/\n",
        "\n",
        "void SumMatrix(double* sum_xPter, double* sum_xxPter, double* sum_x2Pter, \n",
        "double* DatPter, int M, int N)\n",
        "{\n",
        "    int i = 0, j = 0;\n",
        "    do{\n",
        "        do{\n",
        "            \n",
        "            if (i<N-1) {\n",
        "                *sum_xxPter += *(DatPter) * *(DatPter + SA);\n",
        "            }\n",
        "            \n",
        "            *sum_x2Pter += *(DatPter) * *(DatPter);\n",
        "            *sum_xPter  += *(DatPter ++);\n",
        "            \n",
        "            j ++;\n",
        "            \n",
        "        } while(j<M);\n",
        "        \n",
        "        *sum_xPter ++;\n",
        "        *sum_x2Pter ++;\n",
        "        j = 0;\n",
        "        i ++;\n",
        "    } while(i<N);\n",
        "    \n",
        "}\n",
        "\n",
        "/*\n",
        "Se construye la matriz de covarianza con todas las sumas que se hicieron. El \n",
        "proceso es recorrer la matriz con un apuntador, e ir haciendo las operaciones \n",
        "que corresponden.\n",
        "*/\n",
        "\n",
        "void CovMatrix(double* sum_xPter, double* sum_xxPter, double* sum_x2Pter, \n",
        "double* SPter, int M, int N){\n",
        "    \n",
        "    int i = 0, j = 0;\n",
        "    \n",
        "    do {\n",
        "        \n",
        "        do {\n",
        "            \n",
        "            if (i == j){\n",
        "                \n",
        "                *SPter = ( M * (*sum_x2Pter) - (*sum_xPter) * (*sum_xPter)) / ( M*(M-1) );\n",
        "                *SPter ++ ;\n",
        "                \n",
        "            } else {\n",
        "                \n",
        "                *SPter = (M * (*sum_xxPter) - (*sum_xPter) * *(sum_xPter)) / ( M*(M-1) );\n",
        "                *SPter ++ ;\n",
        "                \n",
        "            }\n",
        "            \n",
        "            j ++;\n",
        "            \n",
        "        } while(j < N);\n",
        "        \n",
        "        *sum_xPter ++;\n",
        "        *sum_x2Pter ++;\n",
        "        \n",
        "        j = 0;\n",
        "        i ++ ;\n",
        "        \n",
        "    } while(i < N); \n",
        "  \n",
        "}\n",
        "\n",
        "int main()\n",
        "{\n",
        "    \n",
        "    // Introducimos los datos en una sola matriz\n",
        "\n",
        "    double DatM[] = {\n",
        "        10.0, 10.4, 9.7, 9.7, 11.7, 11.0, 8.7, 9.5, 10.1, 9.6, 10.5, 9.2, 11.3, 10.1, 8.5,\n",
        "        10.7, 9.8, 10.0, 10.1, 11.5, 10.8, 8.8, 9.3, 9.4, 9.6, 10.4, 9.0, 11.6, 9.8, 9.2\n",
        "    };\n",
        "\n",
        "    // Declaraos un apuntador que apunte a la matriz de datos\n",
        "    double* DatPter = DatM;\n",
        " \n",
        "    // Declaramos los arreglos para guardar las sumas\n",
        "    double sum_x[ST], sum_x2[ST], sum_xx[(ST*ST - ST)/2];\n",
        " \n",
        "    // Apuntamos a los arreglos de las sumas\n",
        "    double* sum_xPter  = sum_x;\n",
        "    double* sum_x2Pter = sum_x2;\n",
        "    double* sum_xxPter = sum_xx;\n",
        "    \n",
        "    // Declaramos un arreglo para la matriz de covarianza y le apuntamos\n",
        "    double SMatrix[ST*ST];\n",
        "    double* SPter = SMatrix;\n",
        "    \n",
        "    // Hacemos todas las sumas\n",
        "    SumMatrix(sum_xPter, sum_xxPter, sum_x2Pter, DatPter, SA, ST);\n",
        "    \n",
        "    // Nos cercioramos de que estemos apuntando en la dirección correcta\n",
        "    sum_xPter  = sum_x;\n",
        "    sum_x2Pter = sum_x2;\n",
        "    \n",
        "    // Construimos la matriz de covarianza\n",
        "    CovMatrix(sum_xPter, sum_xxPter, sum_x2Pter, SPter, SA, ST);\n",
        " \n",
        "    // Imprimimos la matriz\n",
        "    printf( \"La matriz de Covarianza es: \\n\");\n",
        "    MatrixShow(ST,ST, SMatrix);\n",
        "\n",
        "    \n",
        "    return 0;\n",
        "\n",
        "}"
      ],
      "metadata": {
        "id": "lsVfQV7seQMN",
        "colab": {
          "base_uri": "https://localhost:8080/"
        },
        "outputId": "a6d936ca-e4a5-4704-c21b-d376d0a053be"
      },
      "execution_count": null,
      "outputs": [
        {
          "output_type": "stream",
          "name": "stdout",
          "text": [
            "Overwriting Rutinas.c\n"
          ]
        }
      ]
    },
    {
      "cell_type": "code",
      "source": [
        "%%shell\n",
        "\n",
        "gcc Rutinas.c -o Rutinas\n",
        "./Rutinas"
      ],
      "metadata": {
        "colab": {
          "base_uri": "https://localhost:8080/"
        },
        "id": "ow-yf7oPtW2o",
        "outputId": "a2eb7992-f141-469f-c3a1-bbab2496479f"
      },
      "execution_count": null,
      "outputs": [
        {
          "output_type": "stream",
          "name": "stdout",
          "text": [
            "La matriz de Covarianza es: \n",
            "0.798571 \t0.679286 \t\n",
            "0.679286 \t0.734286 \t\n"
          ]
        },
        {
          "output_type": "execute_result",
          "data": {
            "text/plain": [
              ""
            ]
          },
          "metadata": {},
          "execution_count": 9
        }
      ]
    },
    {
      "cell_type": "markdown",
      "source": [
        "Tenemos el mismo programa, asi se construyó originalmente, sin rutinas."
      ],
      "metadata": {
        "id": "ZWYlsKrlvP79"
      }
    },
    {
      "cell_type": "code",
      "source": [
        "%%writefile nuevo.c\n",
        "\n",
        "#include <stdio.h>\n",
        "\n",
        "#define ST 2\n",
        "#define SA 15\n",
        "\n",
        "void MatrixShow(int m, int n, double v[]){\n",
        "    \n",
        "    int i, j, k=0;\n",
        "    \n",
        "    for(i=0 ; i<m ; i++){\n",
        "        \n",
        "        for (j=0 ; j<n ; j ++){\n",
        "            \n",
        "            printf(\"%lf \\t\", v[k]);\n",
        "            k ++;\n",
        "        }\n",
        "        \n",
        "        printf(\"\\n\");\n",
        "    }\n",
        "}\n",
        "\n",
        "\n",
        "\n",
        "int main()\n",
        "{\n",
        "    \n",
        "    // Introducimos los datos en una sola matriz\n",
        "\n",
        "    double DatM[] = {\n",
        "        10.0, 10.4, 9.7, 9.7, 11.7, 11.0, 8.7, 9.5, 10.1, 9.6, 10.5, 9.2, 11.3, 10.1, 8.5,\n",
        "        10.7, 9.8, 10.0, 10.1, 11.5, 10.8, 8.8, 9.3, 9.4, 9.6, 10.4, 9.0, 11.6, 9.8, 9.2\n",
        "    };\n",
        " \n",
        "    double* DatPter = DatM;\n",
        " \n",
        "    double sum_x[ST], sum_x2[ST], sum_xx[(ST*ST - ST)/2];\n",
        " \n",
        "    double* sum_xPter  = sum_x;\n",
        "    double* sum_x2Pter = sum_x2;\n",
        "    double* sum_xxPter = sum_xx;\n",
        "    \n",
        "    int i = 0, j = 0;\n",
        "    \n",
        "    \n",
        "    do{\n",
        "        do{\n",
        "            \n",
        "            if (i<ST-1) {\n",
        "                *sum_xxPter += *(DatPter) * *(DatPter + SA);\n",
        "                //printf(\"%lf \\n\", *sum_xxPter);\n",
        "            }\n",
        "            \n",
        "            *sum_x2Pter += *(DatPter) * *(DatPter);\n",
        "            *sum_xPter  += *(DatPter ++);\n",
        "            \n",
        "            j ++;\n",
        "            \n",
        "        } while(j<SA);\n",
        "        \n",
        "        *sum_xPter ++;\n",
        "        *sum_x2Pter ++;\n",
        "        j = 0;\n",
        "        i ++;\n",
        "    } while(i<ST);\n",
        "\n",
        "    \n",
        "    double SMatrix[ST*ST];\n",
        "    double* SPter = SMatrix;\n",
        "    \n",
        "    \n",
        "    i = 0;\n",
        "    j = 0;\n",
        "    \n",
        "    sum_xPter  = sum_x;\n",
        "    sum_x2Pter = sum_x2;\n",
        "    \n",
        "    do {\n",
        "        \n",
        "        do {\n",
        "            \n",
        "            if (i == j){\n",
        "                \n",
        "                *SPter = ( SA * (*sum_x2Pter) - (*sum_xPter) * (*sum_xPter)) / ( SA*(SA-1) );\n",
        "                *SPter ++ ;\n",
        "                \n",
        "                \n",
        "            } else {\n",
        "                \n",
        "                *SPter = (SA * (*sum_xxPter) - (*sum_xPter) * *(sum_xPter)) / ( SA*(SA-1) );\n",
        "                *SPter ++ ;\n",
        "                \n",
        "            }\n",
        "            \n",
        "            j ++;\n",
        "            \n",
        "        } while(j < ST);\n",
        "        \n",
        "        *sum_xPter ++;\n",
        "        *sum_x2Pter ++;\n",
        "        \n",
        "        j = 0;\n",
        "        i ++ ;\n",
        "        \n",
        "    } while(i < ST); \n",
        "    \n",
        "\n",
        "    printf( \"La matriz de Covarianza es: \\n\");\n",
        "    MatrixShow(ST,ST, SMatrix);\n",
        "\n",
        "    \n",
        "    return 0;\n",
        "\n",
        "}"
      ],
      "metadata": {
        "colab": {
          "base_uri": "https://localhost:8080/"
        },
        "id": "qyjEsRXvbCgc",
        "outputId": "99dad9c8-9d17-48a8-c0bc-e656b8c114b3"
      },
      "execution_count": null,
      "outputs": [
        {
          "output_type": "stream",
          "name": "stdout",
          "text": [
            "Overwriting nuevo.c\n"
          ]
        }
      ]
    },
    {
      "cell_type": "code",
      "source": [
        "%%shell\n",
        "gcc nuevo.c -o nuevo\n",
        "./nuevo"
      ],
      "metadata": {
        "colab": {
          "base_uri": "https://localhost:8080/"
        },
        "id": "r1kbWP2peBJi",
        "outputId": "7f826abf-f88a-45a7-b220-edd020a7b02b"
      },
      "execution_count": null,
      "outputs": [
        {
          "output_type": "stream",
          "name": "stdout",
          "text": [
            "La matriz de Covarianza es: \n",
            "0.798571 \t0.679286 \t\n",
            "0.679286 \t0.734286 \t\n"
          ]
        },
        {
          "output_type": "execute_result",
          "data": {
            "text/plain": [
              ""
            ]
          },
          "metadata": {},
          "execution_count": 11
        }
      ]
    },
    {
      "cell_type": "code",
      "source": [],
      "metadata": {
        "id": "FsmOg9h2DSLo"
      },
      "execution_count": null,
      "outputs": []
    }
  ]
}